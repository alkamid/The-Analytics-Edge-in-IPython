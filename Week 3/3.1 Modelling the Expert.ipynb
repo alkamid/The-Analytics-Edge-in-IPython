{
 "cells": [
  {
   "cell_type": "code",
   "execution_count": 1,
   "metadata": {
    "collapsed": false
   },
   "outputs": [],
   "source": [
    "# Render our plots inline\n",
    "%matplotlib inline\n",
    "\n",
    "import pandas as pd\n",
    "import matplotlib.pyplot as plt\n",
    "import numpy as np # we'll need this for sqrt and mean\n",
    "\n",
    "pd.set_option('display.mpl_style', 'default') # Make the graphs a bit prettier\n",
    "plt.rcParams['figure.figsize'] = (15, 5)"
   ]
  },
  {
   "cell_type": "code",
   "execution_count": 2,
   "metadata": {
    "collapsed": false
   },
   "outputs": [
    {
     "data": {
      "text/html": [
       "<div style=\"max-height:1000px;max-width:1500px;overflow:auto;\">\n",
       "<table border=\"1\" class=\"dataframe\">\n",
       "  <thead>\n",
       "    <tr style=\"text-align: right;\">\n",
       "      <th></th>\n",
       "      <th>MemberID</th>\n",
       "      <th>InpatientDays</th>\n",
       "      <th>ERVisits</th>\n",
       "      <th>OfficeVisits</th>\n",
       "      <th>Narcotics</th>\n",
       "      <th>DaysSinceLastERVisit</th>\n",
       "      <th>Pain</th>\n",
       "      <th>TotalVisits</th>\n",
       "      <th>ProviderCount</th>\n",
       "      <th>MedicalClaims</th>\n",
       "      <th>ClaimLines</th>\n",
       "      <th>StartedOnCombination</th>\n",
       "      <th>AcuteDrugGapSmall</th>\n",
       "      <th>PoorCare</th>\n",
       "    </tr>\n",
       "  </thead>\n",
       "  <tbody>\n",
       "    <tr>\n",
       "      <th>0</th>\n",
       "      <td> 1</td>\n",
       "      <td> 0</td>\n",
       "      <td> 0</td>\n",
       "      <td> 18</td>\n",
       "      <td> 1</td>\n",
       "      <td> 731</td>\n",
       "      <td> 10</td>\n",
       "      <td> 18</td>\n",
       "      <td> 21</td>\n",
       "      <td> 93</td>\n",
       "      <td> 222</td>\n",
       "      <td> False</td>\n",
       "      <td> 0</td>\n",
       "      <td> 0</td>\n",
       "    </tr>\n",
       "    <tr>\n",
       "      <th>1</th>\n",
       "      <td> 2</td>\n",
       "      <td> 1</td>\n",
       "      <td> 1</td>\n",
       "      <td>  6</td>\n",
       "      <td> 1</td>\n",
       "      <td> 411</td>\n",
       "      <td>  0</td>\n",
       "      <td>  8</td>\n",
       "      <td> 27</td>\n",
       "      <td> 19</td>\n",
       "      <td> 115</td>\n",
       "      <td> False</td>\n",
       "      <td> 1</td>\n",
       "      <td> 0</td>\n",
       "    </tr>\n",
       "    <tr>\n",
       "      <th>2</th>\n",
       "      <td> 3</td>\n",
       "      <td> 0</td>\n",
       "      <td> 0</td>\n",
       "      <td>  5</td>\n",
       "      <td> 3</td>\n",
       "      <td> 731</td>\n",
       "      <td> 10</td>\n",
       "      <td>  5</td>\n",
       "      <td> 16</td>\n",
       "      <td> 27</td>\n",
       "      <td> 148</td>\n",
       "      <td> False</td>\n",
       "      <td> 5</td>\n",
       "      <td> 0</td>\n",
       "    </tr>\n",
       "    <tr>\n",
       "      <th>3</th>\n",
       "      <td> 4</td>\n",
       "      <td> 0</td>\n",
       "      <td> 1</td>\n",
       "      <td> 19</td>\n",
       "      <td> 0</td>\n",
       "      <td> 158</td>\n",
       "      <td> 34</td>\n",
       "      <td> 20</td>\n",
       "      <td> 14</td>\n",
       "      <td> 59</td>\n",
       "      <td> 242</td>\n",
       "      <td> False</td>\n",
       "      <td> 0</td>\n",
       "      <td> 0</td>\n",
       "    </tr>\n",
       "    <tr>\n",
       "      <th>4</th>\n",
       "      <td> 5</td>\n",
       "      <td> 8</td>\n",
       "      <td> 2</td>\n",
       "      <td> 19</td>\n",
       "      <td> 3</td>\n",
       "      <td> 449</td>\n",
       "      <td> 10</td>\n",
       "      <td> 29</td>\n",
       "      <td> 24</td>\n",
       "      <td> 51</td>\n",
       "      <td> 204</td>\n",
       "      <td> False</td>\n",
       "      <td> 0</td>\n",
       "      <td> 0</td>\n",
       "    </tr>\n",
       "  </tbody>\n",
       "</table>\n",
       "</div>"
      ],
      "text/plain": [
       "   MemberID  InpatientDays  ERVisits  OfficeVisits  Narcotics  \\\n",
       "0         1              0         0            18          1   \n",
       "1         2              1         1             6          1   \n",
       "2         3              0         0             5          3   \n",
       "3         4              0         1            19          0   \n",
       "4         5              8         2            19          3   \n",
       "\n",
       "   DaysSinceLastERVisit  Pain  TotalVisits  ProviderCount  MedicalClaims  \\\n",
       "0                   731    10           18             21             93   \n",
       "1                   411     0            8             27             19   \n",
       "2                   731    10            5             16             27   \n",
       "3                   158    34           20             14             59   \n",
       "4                   449    10           29             24             51   \n",
       "\n",
       "   ClaimLines StartedOnCombination  AcuteDrugGapSmall  PoorCare  \n",
       "0         222                False                  0         0  \n",
       "1         115                False                  1         0  \n",
       "2         148                False                  5         0  \n",
       "3         242                False                  0         0  \n",
       "4         204                False                  0         0  "
      ]
     },
     "execution_count": 2,
     "metadata": {},
     "output_type": "execute_result"
    }
   ],
   "source": [
    "quality = pd.read_csv(\"quality.csv\")\n",
    "quality.head()"
   ]
  },
  {
   "cell_type": "code",
   "execution_count": 3,
   "metadata": {
    "collapsed": false
   },
   "outputs": [
    {
     "data": {
      "text/html": [
       "<div style=\"max-height:1000px;max-width:1500px;overflow:auto;\">\n",
       "<table border=\"1\" class=\"dataframe\">\n",
       "  <thead>\n",
       "    <tr style=\"text-align: right;\">\n",
       "      <th></th>\n",
       "      <th>MemberID</th>\n",
       "      <th>InpatientDays</th>\n",
       "      <th>ERVisits</th>\n",
       "      <th>OfficeVisits</th>\n",
       "      <th>Narcotics</th>\n",
       "      <th>DaysSinceLastERVisit</th>\n",
       "      <th>Pain</th>\n",
       "      <th>TotalVisits</th>\n",
       "      <th>ProviderCount</th>\n",
       "      <th>MedicalClaims</th>\n",
       "      <th>ClaimLines</th>\n",
       "      <th>StartedOnCombination</th>\n",
       "      <th>AcuteDrugGapSmall</th>\n",
       "    </tr>\n",
       "    <tr>\n",
       "      <th>PoorCare</th>\n",
       "      <th></th>\n",
       "      <th></th>\n",
       "      <th></th>\n",
       "      <th></th>\n",
       "      <th></th>\n",
       "      <th></th>\n",
       "      <th></th>\n",
       "      <th></th>\n",
       "      <th></th>\n",
       "      <th></th>\n",
       "      <th></th>\n",
       "      <th></th>\n",
       "      <th></th>\n",
       "    </tr>\n",
       "  </thead>\n",
       "  <tbody>\n",
       "    <tr>\n",
       "      <th>0</th>\n",
       "      <td> 98</td>\n",
       "      <td> 98</td>\n",
       "      <td> 98</td>\n",
       "      <td> 98</td>\n",
       "      <td> 98</td>\n",
       "      <td> 98</td>\n",
       "      <td> 98</td>\n",
       "      <td> 98</td>\n",
       "      <td> 98</td>\n",
       "      <td> 98</td>\n",
       "      <td> 98</td>\n",
       "      <td> 98</td>\n",
       "      <td> 98</td>\n",
       "    </tr>\n",
       "    <tr>\n",
       "      <th>1</th>\n",
       "      <td> 33</td>\n",
       "      <td> 33</td>\n",
       "      <td> 33</td>\n",
       "      <td> 33</td>\n",
       "      <td> 33</td>\n",
       "      <td> 33</td>\n",
       "      <td> 33</td>\n",
       "      <td> 33</td>\n",
       "      <td> 33</td>\n",
       "      <td> 33</td>\n",
       "      <td> 33</td>\n",
       "      <td> 33</td>\n",
       "      <td> 33</td>\n",
       "    </tr>\n",
       "  </tbody>\n",
       "</table>\n",
       "</div>"
      ],
      "text/plain": [
       "          MemberID  InpatientDays  ERVisits  OfficeVisits  Narcotics  \\\n",
       "PoorCare                                                               \n",
       "0               98             98        98            98         98   \n",
       "1               33             33        33            33         33   \n",
       "\n",
       "          DaysSinceLastERVisit  Pain  TotalVisits  ProviderCount  \\\n",
       "PoorCare                                                           \n",
       "0                           98    98           98             98   \n",
       "1                           33    33           33             33   \n",
       "\n",
       "          MedicalClaims  ClaimLines  StartedOnCombination  AcuteDrugGapSmall  \n",
       "PoorCare                                                                      \n",
       "0                    98          98                    98                 98  \n",
       "1                    33          33                    33                 33  "
      ]
     },
     "execution_count": 3,
     "metadata": {},
     "output_type": "execute_result"
    }
   ],
   "source": [
    "quality.groupby('PoorCare').count()"
   ]
  },
  {
   "cell_type": "markdown",
   "metadata": {},
   "source": [
    "The baseline model has the accuracy of"
   ]
  },
  {
   "cell_type": "code",
   "execution_count": 4,
   "metadata": {
    "collapsed": false
   },
   "outputs": [
    {
     "data": {
      "text/plain": [
       "0.7480916030534351"
      ]
     },
     "execution_count": 4,
     "metadata": {},
     "output_type": "execute_result"
    }
   ],
   "source": [
    "98/(98+33)"
   ]
  },
  {
   "cell_type": "markdown",
   "metadata": {},
   "source": [
    "We need to randomly split our data into the test and train set. For now, I'll use python's random number generator. Ideally, we want the same rows as in R, but I'll only implement this when I know how to run R from Python."
   ]
  },
  {
   "cell_type": "code",
   "execution_count": 5,
   "metadata": {
    "collapsed": false,
    "scrolled": true
   },
   "outputs": [],
   "source": [
    "from sklearn.cross_validation import train_test_split\n",
    "\n",
    "train, test = train_test_split(quality, train_size=0.75, random_state=1)\n",
    "\n",
    "qualityTrain = pd.DataFrame(train, columns=quality.columns)\n",
    "qualityTest = pd.DataFrame(test, columns=quality.columns)"
   ]
  },
  {
   "cell_type": "code",
   "execution_count": 6,
   "metadata": {
    "collapsed": false
   },
   "outputs": [],
   "source": [
    "qualityTrain['PoorCare'] = qualityTrain['PoorCare'].astype(int)"
   ]
  },
  {
   "cell_type": "code",
   "execution_count": 7,
   "metadata": {
    "collapsed": false,
    "scrolled": true
   },
   "outputs": [
    {
     "name": "stdout",
     "output_type": "stream",
     "text": [
      "Optimization terminated successfully.\n",
      "         Current function value: 0.405241\n",
      "         Iterations 6\n"
     ]
    },
    {
     "data": {
      "text/html": [
       "<table class=\"simpletable\">\n",
       "<caption>Logit Regression Results</caption>\n",
       "<tr>\n",
       "  <th>Dep. Variable:</th>     <td>PoorCare</td>     <th>  No. Observations:  </th>  <td>    98</td>  \n",
       "</tr>\n",
       "<tr>\n",
       "  <th>Model:</th>               <td>Logit</td>      <th>  Df Residuals:      </th>  <td>    95</td>  \n",
       "</tr>\n",
       "<tr>\n",
       "  <th>Method:</th>               <td>MLE</td>       <th>  Df Model:          </th>  <td>     2</td>  \n",
       "</tr>\n",
       "<tr>\n",
       "  <th>Date:</th>          <td>Wed, 25 Mar 2015</td> <th>  Pseudo R-squ.:     </th>  <td>0.2390</td>  \n",
       "</tr>\n",
       "<tr>\n",
       "  <th>Time:</th>              <td>17:52:11</td>     <th>  Log-Likelihood:    </th> <td> -39.714</td> \n",
       "</tr>\n",
       "<tr>\n",
       "  <th>converged:</th>           <td>True</td>       <th>  LL-Null:           </th> <td> -52.188</td> \n",
       "</tr>\n",
       "<tr>\n",
       "  <th> </th>                      <td> </td>        <th>  LLR p-value:       </th> <td>3.823e-06</td>\n",
       "</tr>\n",
       "</table>\n",
       "<table class=\"simpletable\">\n",
       "<tr>\n",
       "        <td></td>          <th>coef</th>     <th>std err</th>      <th>z</th>      <th>P>|z|</th> <th>[95.0% Conf. Int.]</th> \n",
       "</tr>\n",
       "<tr>\n",
       "  <th>const</th>        <td>   -2.7718</td> <td>    0.561</td> <td>   -4.940</td> <td> 0.000</td> <td>   -3.872    -1.672</td>\n",
       "</tr>\n",
       "<tr>\n",
       "  <th>OfficeVisits</th> <td>    0.0680</td> <td>    0.031</td> <td>    2.211</td> <td> 0.027</td> <td>    0.008     0.128</td>\n",
       "</tr>\n",
       "<tr>\n",
       "  <th>Narcotics</th>    <td>    0.1223</td> <td>    0.041</td> <td>    2.991</td> <td> 0.003</td> <td>    0.042     0.203</td>\n",
       "</tr>\n",
       "</table>"
      ],
      "text/plain": [
       "<class 'statsmodels.iolib.summary.Summary'>\n",
       "\"\"\"\n",
       "                           Logit Regression Results                           \n",
       "==============================================================================\n",
       "Dep. Variable:               PoorCare   No. Observations:                   98\n",
       "Model:                          Logit   Df Residuals:                       95\n",
       "Method:                           MLE   Df Model:                            2\n",
       "Date:                Wed, 25 Mar 2015   Pseudo R-squ.:                  0.2390\n",
       "Time:                        17:52:11   Log-Likelihood:                -39.714\n",
       "converged:                       True   LL-Null:                       -52.188\n",
       "                                        LLR p-value:                 3.823e-06\n",
       "================================================================================\n",
       "                   coef    std err          z      P>|z|      [95.0% Conf. Int.]\n",
       "--------------------------------------------------------------------------------\n",
       "const           -2.7718      0.561     -4.940      0.000        -3.872    -1.672\n",
       "OfficeVisits     0.0680      0.031      2.211      0.027         0.008     0.128\n",
       "Narcotics        0.1223      0.041      2.991      0.003         0.042     0.203\n",
       "================================================================================\n",
       "\"\"\""
      ]
     },
     "execution_count": 7,
     "metadata": {},
     "output_type": "execute_result"
    }
   ],
   "source": [
    "import statsmodels.api as sm\n",
    "qualityTrain\n",
    "\n",
    "cols = ['OfficeVisits', 'Narcotics']\n",
    "x = qualityTrain[cols]\n",
    "x = sm.add_constant(x)\n",
    "y = qualityTrain['PoorCare']\n",
    "\n",
    "model = sm.Logit(y, x.astype(float)).fit()\n",
    "model.summary()"
   ]
  },
  {
   "cell_type": "code",
   "execution_count": 21,
   "metadata": {
    "collapsed": false
   },
   "outputs": [],
   "source": [
    "x = qualityTest[cols]\n",
    "x = sm.add_constant(x)\n",
    "\n",
    "predTest = model.predict(x.astype(float))"
   ]
  },
  {
   "cell_type": "code",
   "execution_count": 22,
   "metadata": {
    "collapsed": true
   },
   "outputs": [],
   "source": [
    "x = qualityTrain[cols]\n",
    "x = sm.add_constant(x)\n",
    "\n",
    "predTrain = model.predict(x.astype(float))"
   ]
  },
  {
   "cell_type": "markdown",
   "metadata": {},
   "source": [
    "###Specificity and selectivity\n",
    "Now that we built the model, we can check its specificity and sensitivity. They are defined by:\n",
    "\n",
    "$$\\mathrm{sensitivity= \\frac{TP}{TP+FN}}$$\n",
    "$$\\mathrm{specificity= \\frac{TN}{TN+FP}}$$\n"
   ]
  },
  {
   "cell_type": "code",
   "execution_count": 47,
   "metadata": {
    "collapsed": false
   },
   "outputs": [
    {
     "data": {
      "text/html": [
       "<div style=\"max-height:1000px;max-width:1500px;overflow:auto;\">\n",
       "<table border=\"1\" class=\"dataframe\">\n",
       "  <thead>\n",
       "    <tr style=\"text-align: right;\">\n",
       "      <th>PredictedCare</th>\n",
       "      <th>False</th>\n",
       "      <th>True</th>\n",
       "    </tr>\n",
       "    <tr>\n",
       "      <th>PoorCare</th>\n",
       "      <th></th>\n",
       "      <th></th>\n",
       "    </tr>\n",
       "  </thead>\n",
       "  <tbody>\n",
       "    <tr>\n",
       "      <th>0</th>\n",
       "      <td> 60</td>\n",
       "      <td> 16</td>\n",
       "    </tr>\n",
       "    <tr>\n",
       "      <th>1</th>\n",
       "      <td>  8</td>\n",
       "      <td> 14</td>\n",
       "    </tr>\n",
       "  </tbody>\n",
       "</table>\n",
       "</div>"
      ],
      "text/plain": [
       "PredictedCare  False  True \n",
       "PoorCare                   \n",
       "0                 60     16\n",
       "1                  8     14"
      ]
     },
     "execution_count": 47,
     "metadata": {},
     "output_type": "execute_result"
    }
   ],
   "source": [
    "pd.crosstab(qualityTrain['PoorCare'], predTrain > 0.2, colnames=['PredictedCare'])"
   ]
  },
  {
   "cell_type": "code",
   "execution_count": 50,
   "metadata": {
    "collapsed": false
   },
   "outputs": [
    {
     "name": "stdout",
     "output_type": "stream",
     "text": [
      "0.6363636363636364\n",
      "0.7894736842105263\n"
     ]
    }
   ],
   "source": [
    "sens = 14/(14+8)\n",
    "spec  = 60/(60+16)\n",
    "print(sens)\n",
    "print(spec)"
   ]
  },
  {
   "cell_type": "markdown",
   "metadata": {},
   "source": [
    "Increase the threshold to 0.7:"
   ]
  },
  {
   "cell_type": "code",
   "execution_count": 46,
   "metadata": {
    "collapsed": false
   },
   "outputs": [
    {
     "data": {
      "text/html": [
       "<div style=\"max-height:1000px;max-width:1500px;overflow:auto;\">\n",
       "<table border=\"1\" class=\"dataframe\">\n",
       "  <thead>\n",
       "    <tr style=\"text-align: right;\">\n",
       "      <th>PredictedCare</th>\n",
       "      <th>False</th>\n",
       "      <th>True</th>\n",
       "    </tr>\n",
       "    <tr>\n",
       "      <th>PoorCare</th>\n",
       "      <th></th>\n",
       "      <th></th>\n",
       "    </tr>\n",
       "  </thead>\n",
       "  <tbody>\n",
       "    <tr>\n",
       "      <th>0</th>\n",
       "      <td> 75</td>\n",
       "      <td> 1</td>\n",
       "    </tr>\n",
       "    <tr>\n",
       "      <th>1</th>\n",
       "      <td> 15</td>\n",
       "      <td> 7</td>\n",
       "    </tr>\n",
       "  </tbody>\n",
       "</table>\n",
       "</div>"
      ],
      "text/plain": [
       "PredictedCare  False  True \n",
       "PoorCare                   \n",
       "0                 75      1\n",
       "1                 15      7"
      ]
     },
     "execution_count": 46,
     "metadata": {},
     "output_type": "execute_result"
    }
   ],
   "source": [
    "pd.crosstab(qualityTrain['PoorCare'], predTrain > 0.7, colnames=['PredictedCare'])"
   ]
  },
  {
   "cell_type": "code",
   "execution_count": 51,
   "metadata": {
    "collapsed": false
   },
   "outputs": [
    {
     "name": "stdout",
     "output_type": "stream",
     "text": [
      "0.4666666666666667\n",
      "0.9868421052631579\n"
     ]
    }
   ],
   "source": [
    "sens = 7/(7+8)\n",
    "spec  = 75/(75+1)\n",
    "print(sens)\n",
    "print(spec)"
   ]
  },
  {
   "cell_type": "markdown",
   "metadata": {},
   "source": [
    "###Receiver Operating Characteristic (ROC) curve\n",
    "\n",
    "Python has a way to do this painlessly, horray!\n",
    "Docs: http://scikit-learn.org/stable/modules/generated/sklearn.metrics.roc_curve.html#sklearn.metrics.roc_curve"
   ]
  },
  {
   "cell_type": "code",
   "execution_count": 81,
   "metadata": {
    "collapsed": false
   },
   "outputs": [],
   "source": [
    "from sklearn import metrics\n",
    "fpr, tpr, thresholds = metrics.roc_curve(qualityTrain['PoorCare'], predTrain)"
   ]
  },
  {
   "cell_type": "code",
   "execution_count": 82,
   "metadata": {
    "collapsed": false
   },
   "outputs": [
    {
     "data": {
      "text/plain": [
       "array([ 0.        ,  0.        ,  0.01315789,  0.01315789,  0.01315789,\n",
       "        0.01315789,  0.01315789,  0.01315789,  0.01315789,  0.01315789,\n",
       "        0.01315789,  0.02631579,  0.02631579,  0.02631579,  0.03947368,\n",
       "        0.05263158,  0.06578947,  0.06578947,  0.07894737,  0.09210526,\n",
       "        0.10526316,  0.11842105,  0.13157895,  0.14473684,  0.14473684,\n",
       "        0.15789474,  0.17105263,  0.18421053,  0.21052632,  0.22368421,\n",
       "        0.25      ,  0.26315789,  0.27631579,  0.28947368,  0.30263158,\n",
       "        0.31578947,  0.32894737,  0.34210526,  0.38157895,  0.40789474,\n",
       "        0.43421053,  0.43421053,  0.44736842,  0.46052632,  0.5       ,\n",
       "        0.51315789,  0.52631579,  0.56578947,  0.59210526,  0.60526316,\n",
       "        0.63157895,  0.63157895,  0.68421053,  0.71052632,  0.71052632,\n",
       "        0.78947368,  0.80263158,  0.85526316,  0.88157895,  0.92105263,\n",
       "        0.93421053,  0.94736842,  0.96052632,  0.98684211,  1.        ])"
      ]
     },
     "execution_count": 82,
     "metadata": {},
     "output_type": "execute_result"
    }
   ],
   "source": [
    "fpr"
   ]
  },
  {
   "cell_type": "code",
   "execution_count": 83,
   "metadata": {
    "collapsed": false
   },
   "outputs": [
    {
     "data": {
      "text/plain": [
       "array([ 0.99825993,  0.99029596,  0.9564465 ,  0.91436947,  0.85609767,\n",
       "        0.79840602,  0.78711261,  0.77548717,  0.64637286,  0.58866208,\n",
       "        0.56803056,  0.42671673,  0.38708926,  0.35235367,  0.30713202,\n",
       "        0.29599309,  0.28746985,  0.26844018,  0.26041686,  0.25777721,\n",
       "        0.25528894,  0.25241765,  0.23992247,  0.23755139,  0.23028563,\n",
       "        0.21844547,  0.21610694,  0.21148445,  0.20480181,  0.19610044,\n",
       "        0.19394177,  0.18559412,  0.17552778,  0.17542589,  0.1658962 ,\n",
       "        0.16400218,  0.16212558,  0.15488423,  0.14790922,  0.14111047,\n",
       "        0.13953665,  0.13156483,  0.13000168,  0.12845435,  0.12398283,\n",
       "        0.12249706,  0.11957144,  0.11536821,  0.112591  ,  0.10860288,\n",
       "        0.10727884,  0.10596903,  0.10345694,  0.10218845,  0.10093376,\n",
       "        0.09731327,  0.09611203,  0.0914972 ,  0.08923667,  0.08599562,\n",
       "        0.08079542,  0.07397738,  0.07034264,  0.06687358,  0.05886525])"
      ]
     },
     "execution_count": 83,
     "metadata": {},
     "output_type": "execute_result"
    }
   ],
   "source": [
    "thresholds"
   ]
  },
  {
   "cell_type": "code",
   "execution_count": 84,
   "metadata": {
    "collapsed": false
   },
   "outputs": [
    {
     "data": {
      "text/plain": [
       "array([ 0.04545455,  0.09090909,  0.09090909,  0.13636364,  0.18181818,\n",
       "        0.22727273,  0.27272727,  0.31818182,  0.36363636,  0.40909091,\n",
       "        0.45454545,  0.45454545,  0.5       ,  0.54545455,  0.54545455,\n",
       "        0.54545455,  0.54545455,  0.59090909,  0.59090909,  0.59090909,\n",
       "        0.59090909,  0.59090909,  0.59090909,  0.59090909,  0.63636364,\n",
       "        0.63636364,  0.63636364,  0.63636364,  0.63636364,  0.63636364,\n",
       "        0.63636364,  0.63636364,  0.63636364,  0.63636364,  0.63636364,\n",
       "        0.63636364,  0.63636364,  0.72727273,  0.72727273,  0.72727273,\n",
       "        0.72727273,  0.77272727,  0.77272727,  0.77272727,  0.77272727,\n",
       "        0.77272727,  0.77272727,  0.77272727,  0.77272727,  0.77272727,\n",
       "        0.81818182,  0.86363636,  0.90909091,  0.90909091,  0.95454545,\n",
       "        0.95454545,  0.95454545,  0.95454545,  1.        ,  1.        ,\n",
       "        1.        ,  1.        ,  1.        ,  1.        ,  1.        ])"
      ]
     },
     "execution_count": 84,
     "metadata": {},
     "output_type": "execute_result"
    }
   ],
   "source": [
    "tpr"
   ]
  },
  {
   "cell_type": "code",
   "execution_count": 88,
   "metadata": {
    "collapsed": false
   },
   "outputs": [
    {
     "data": {
      "text/plain": [
       "<matplotlib.text.Text at 0x7f0f934c3550>"
      ]
     },
     "execution_count": 88,
     "metadata": {},
     "output_type": "execute_result"
    },
    {
     "data": {
      "image/png": "[encoded data removed]",
      "text/plain": [
       "<matplotlib.figure.Figure at 0x7f0f934e1d30>"
      ]
     },
     "metadata": {},
     "output_type": "display_data"
    }
   ],
   "source": [
    "fig = plt.figure()\n",
    "ax1 = fig.add_subplot(111)\n",
    "ax1.plot(fpr, tpr)\n",
    "ax1.set_xlabel(\"False Positive Rate\")\n",
    "ax1.set_ylabel(\"True Positive Rate\")"
   ]
  },
  {
   "cell_type": "markdown",
   "metadata": {
    "collapsed": true
   },
   "source": [
    "###Area under ROC curve (AUC)"
   ]
  },
  {
   "cell_type": "code",
   "execution_count": null,
   "metadata": {
    "collapsed": true
   },
   "outputs": [],
   "source": []
  }
 ],
 "metadata": {
  "kernelspec": {
   "display_name": "Python 3",
   "language": "python",
   "name": "python3"
  },
  "language_info": {
   "codemirror_mode": {
    "name": "ipython",
    "version": 3
   },
   "file_extension": ".py",
   "mimetype": "text/x-python",
   "name": "python",
   "nbconvert_exporter": "python",
   "pygments_lexer": "ipython3",
   "version": "3.4.3"
  }
 },
 "nbformat": 4,
 "nbformat_minor": 0
}
